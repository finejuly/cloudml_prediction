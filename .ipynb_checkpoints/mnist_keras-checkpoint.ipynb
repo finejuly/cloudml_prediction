{
 "cells": [
  {
   "cell_type": "markdown",
   "metadata": {},
   "source": [
    "Download MNIST dataset, and train a simple neural network model. <br /> \n",
    "Trained model is saved as 'mnist_model.h5'<br /> \n",
    "***\n",
    "\n",
    "\n",
    "\n"
   ]
  },
  {
   "cell_type": "code",
   "execution_count": null,
   "metadata": {
    "collapsed": true
   },
   "outputs": [],
   "source": [
    "from __future__ import print_function\n",
    "\n",
    "import keras\n",
    "from keras.datasets import mnist\n",
    "from keras.models import Sequential\n",
    "from keras.layers import Dense, Dropout\n",
    "from keras.optimizers import RMSprop, Adam"
   ]
  },
  {
   "cell_type": "code",
   "execution_count": 2,
   "metadata": {
    "collapsed": true
   },
   "outputs": [],
   "source": [
    "batch_size = 128\n",
    "num_classes = 10\n",
    "epochs = 20"
   ]
  },
  {
   "cell_type": "code",
   "execution_count": 3,
   "metadata": {},
   "outputs": [
    {
     "name": "stdout",
     "output_type": "stream",
     "text": [
      "Downloading data from https://s3.amazonaws.com/img-datasets/mnist.npz\n",
      "11493376/11490434 [==============================] - 60s 5us/step\n",
      "11501568/11490434 [==============================] - 60s 5us/step\n"
     ]
    }
   ],
   "source": [
    "# the data, shuffled and split between train and test sets\n",
    "(x_train, y_train), (x_test, y_test) = mnist.load_data()"
   ]
  },
  {
   "cell_type": "code",
   "execution_count": 7,
   "metadata": {},
   "outputs": [
    {
     "name": "stdout",
     "output_type": "stream",
     "text": [
      "60000 train samples\n",
      "10000 test samples\n"
     ]
    }
   ],
   "source": [
    "x_train = x_train.reshape(60000, 784)\n",
    "x_test = x_test.reshape(10000, 784)\n",
    "x_train = x_train.astype('float32')\n",
    "x_test = x_test.astype('float32')\n",
    "x_train /= 255\n",
    "x_test /= 255\n",
    "print(x_train.shape[0], 'train samples')\n",
    "print(x_test.shape[0], 'test samples')\n",
    "\n",
    "# convert class vectors to binary class matrices\n",
    "y_train = keras.utils.to_categorical(y_train, num_classes)\n",
    "y_test = keras.utils.to_categorical(y_test, num_classes)"
   ]
  },
  {
   "cell_type": "code",
   "execution_count": 8,
   "metadata": {},
   "outputs": [
    {
     "name": "stdout",
     "output_type": "stream",
     "text": [
      "_________________________________________________________________\n",
      "Layer (type)                 Output Shape              Param #   \n",
      "=================================================================\n",
      "dense_1 (Dense)              (None, 512)               401920    \n",
      "_________________________________________________________________\n",
      "dropout_1 (Dropout)          (None, 512)               0         \n",
      "_________________________________________________________________\n",
      "dense_2 (Dense)              (None, 512)               262656    \n",
      "_________________________________________________________________\n",
      "dropout_2 (Dropout)          (None, 512)               0         \n",
      "_________________________________________________________________\n",
      "dense_3 (Dense)              (None, 10)                5130      \n",
      "=================================================================\n",
      "Total params: 669,706\n",
      "Trainable params: 669,706\n",
      "Non-trainable params: 0\n",
      "_________________________________________________________________\n"
     ]
    }
   ],
   "source": [
    "model = Sequential()\n",
    "model.add(Dense(512, activation='relu', input_shape=(784,)))\n",
    "model.add(Dropout(0.2))\n",
    "model.add(Dense(512, activation='relu'))\n",
    "model.add(Dropout(0.2))\n",
    "model.add(Dense(num_classes, activation='softmax'))\n",
    "\n",
    "model.summary()"
   ]
  },
  {
   "cell_type": "code",
   "execution_count": 9,
   "metadata": {
    "collapsed": true
   },
   "outputs": [],
   "source": [
    "model.compile(loss='categorical_crossentropy',\n",
    "              optimizer=Adam(),\n",
    "              metrics=['accuracy'])"
   ]
  },
  {
   "cell_type": "code",
   "execution_count": 10,
   "metadata": {},
   "outputs": [
    {
     "name": "stdout",
     "output_type": "stream",
     "text": [
      "Train on 60000 samples, validate on 10000 samples\n",
      "Epoch 1/20\n",
      "60000/60000 [==============================] - 8s 141us/step - loss: 0.8096 - acc: 0.7587 - val_loss: 0.3665 - val_acc: 0.8936\n",
      "Epoch 2/20\n",
      "60000/60000 [==============================] - 8s 135us/step - loss: 0.3460 - acc: 0.8981 - val_loss: 0.2725 - val_acc: 0.9199\n",
      "Epoch 3/20\n",
      "60000/60000 [==============================] - 9s 144us/step - loss: 0.2725 - acc: 0.9188 - val_loss: 0.2256 - val_acc: 0.9319\n",
      "Epoch 4/20\n",
      "60000/60000 [==============================] - 8s 133us/step - loss: 0.2240 - acc: 0.9323 - val_loss: 0.1944 - val_acc: 0.9419\n",
      "Epoch 5/20\n",
      "60000/60000 [==============================] - 8s 135us/step - loss: 0.1885 - acc: 0.9437 - val_loss: 0.1586 - val_acc: 0.9528\n",
      "Epoch 6/20\n",
      "60000/60000 [==============================] - 8s 135us/step - loss: 0.1605 - acc: 0.9510 - val_loss: 0.1429 - val_acc: 0.9554\n",
      "Epoch 7/20\n",
      "60000/60000 [==============================] - 8s 136us/step - loss: 0.1403 - acc: 0.9570 - val_loss: 0.1251 - val_acc: 0.9609\n",
      "Epoch 8/20\n",
      "60000/60000 [==============================] - 8s 135us/step - loss: 0.1244 - acc: 0.9627 - val_loss: 0.1181 - val_acc: 0.9645\n",
      "Epoch 9/20\n",
      "60000/60000 [==============================] - 8s 138us/step - loss: 0.1106 - acc: 0.9668 - val_loss: 0.1040 - val_acc: 0.9665\n",
      "Epoch 10/20\n",
      "60000/60000 [==============================] - 8s 136us/step - loss: 0.1014 - acc: 0.9686 - val_loss: 0.0971 - val_acc: 0.9697\n",
      "Epoch 11/20\n",
      "60000/60000 [==============================] - 8s 135us/step - loss: 0.0907 - acc: 0.9720 - val_loss: 0.0938 - val_acc: 0.9707\n",
      "Epoch 12/20\n",
      "60000/60000 [==============================] - 8s 139us/step - loss: 0.0852 - acc: 0.9738 - val_loss: 0.0868 - val_acc: 0.9730\n",
      "Epoch 13/20\n",
      "60000/60000 [==============================] - 10s 162us/step - loss: 0.0775 - acc: 0.9763 - val_loss: 0.0874 - val_acc: 0.9733\n",
      "Epoch 14/20\n",
      "60000/60000 [==============================] - 11s 176us/step - loss: 0.0706 - acc: 0.9789 - val_loss: 0.0821 - val_acc: 0.9740\n",
      "Epoch 15/20\n",
      "60000/60000 [==============================] - 11s 178us/step - loss: 0.0668 - acc: 0.9789 - val_loss: 0.0826 - val_acc: 0.9734\n",
      "Epoch 16/20\n",
      "60000/60000 [==============================] - 10s 165us/step - loss: 0.0616 - acc: 0.9807 - val_loss: 0.0742 - val_acc: 0.9770\n",
      "Epoch 17/20\n",
      "60000/60000 [==============================] - 11s 185us/step - loss: 0.0582 - acc: 0.9815 - val_loss: 0.0748 - val_acc: 0.9763\n",
      "Epoch 18/20\n",
      "60000/60000 [==============================] - 10s 164us/step - loss: 0.0525 - acc: 0.9836 - val_loss: 0.0714 - val_acc: 0.9773\n",
      "Epoch 19/20\n",
      "60000/60000 [==============================] - 10s 172us/step - loss: 0.0471 - acc: 0.9850 - val_loss: 0.0712 - val_acc: 0.9786\n",
      "Epoch 20/20\n",
      "60000/60000 [==============================] - 10s 161us/step - loss: 0.0467 - acc: 0.9854 - val_loss: 0.0745 - val_acc: 0.9764\n"
     ]
    }
   ],
   "source": [
    "history = model.fit(x_train, y_train,\n",
    "                    batch_size=batch_size,\n",
    "                    epochs=epochs,\n",
    "                    verbose=1,\n",
    "                    validation_data=(x_test, y_test))"
   ]
  },
  {
   "cell_type": "code",
   "execution_count": 12,
   "metadata": {},
   "outputs": [
    {
     "name": "stdout",
     "output_type": "stream",
     "text": [
      "Test loss: 0.0744761498891\n",
      "Test accuracy: 0.9764\n"
     ]
    }
   ],
   "source": [
    "model.save('mnist_model.h5')\n",
    "score = model.evaluate(x_test, y_test, verbose=0)\n",
    "print('Test loss:', score[0])\n",
    "print('Test accuracy:', score[1])"
   ]
  }
 ],
 "metadata": {
  "kernelspec": {
   "display_name": "Python 2",
   "language": "python",
   "name": "python2"
  },
  "language_info": {
   "codemirror_mode": {
    "name": "ipython",
    "version": 2
   },
   "file_extension": ".py",
   "mimetype": "text/x-python",
   "name": "python",
   "nbconvert_exporter": "python",
   "pygments_lexer": "ipython2",
   "version": "2.7.12"
  }
 },
 "nbformat": 4,
 "nbformat_minor": 2
}
