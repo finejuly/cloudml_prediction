{
 "cells": [
  {
   "cell_type": "markdown",
   "metadata": {
    "collapsed": true
   },
   "source": [
    "1. Load the keras model 'mnist_model.h5', which was trained in mnist_keras code. <br />\n",
    "2. convert it to tensorflow saved_model <br />\n",
    "    Note that the 'image' in predict_signature_def will be used later. \n",
    "3. save the saved_model in mnist_model folder"
   ]
  },
  {
   "cell_type": "code",
   "execution_count": null,
   "metadata": {
    "collapsed": true
   },
   "outputs": [],
   "source": [
    "from __future__ import print_function\n",
    "\n",
    "import keras\n",
    "from keras import backend as K    \n",
    "import tensorflow as tf \n",
    "from keras.models import load_model"
   ]
  },
  {
   "cell_type": "code",
   "execution_count": 13,
   "metadata": {
    "collapsed": true
   },
   "outputs": [],
   "source": [
    "model = load_model('mnist_model.h5')"
   ]
  },
  {
   "cell_type": "code",
   "execution_count": 14,
   "metadata": {
    "collapsed": true
   },
   "outputs": [],
   "source": [
    "previous_model = model\n",
    "\n",
    "K.set_learning_phase(0)  # all new operations will be in test mode from now on\n",
    "\n",
    "# serialize the model and get its weights, for quick re-building\n",
    "config = previous_model.get_config()\n",
    "weights = previous_model.get_weights()\n",
    "\n",
    "# re-build a model where the learning phase is now hard-coded to 0\n",
    "from keras.models import model_from_config\n",
    "from keras.models import Sequential\n",
    "\n",
    "\n",
    "new_model = Sequential.from_config(config)\n",
    "#new_model = model_from_config(config)\n",
    "new_model.set_weights(weights)\n",
    "\n",
    "model = new_model"
   ]
  },
  {
   "cell_type": "code",
   "execution_count": 16,
   "metadata": {},
   "outputs": [
    {
     "name": "stdout",
     "output_type": "stream",
     "text": [
      "INFO:tensorflow:No assets to save.\n",
      "INFO:tensorflow:No assets to write.\n",
      "INFO:tensorflow:SavedModel written to: mnist_model/saved_model.pb\n"
     ]
    },
    {
     "data": {
      "text/plain": [
       "'mnist_model/saved_model.pb'"
      ]
     },
     "execution_count": 16,
     "metadata": {},
     "output_type": "execute_result"
    }
   ],
   "source": [
    "signature = tf.saved_model.signature_def_utils.predict_signature_def(                                                                        \n",
    "    inputs={'image': model.input}, outputs={'scores': model.output})                                                                         \n",
    "                                                                                                                                             \n",
    "builder = tf.saved_model.builder.SavedModelBuilder('mnist_model')                                                                    \n",
    "builder.add_meta_graph_and_variables(                                                                                                        \n",
    "    sess=K.get_session(),                                                                                                                    \n",
    "    tags=[tf.saved_model.tag_constants.SERVING],                                                                                             \n",
    "    signature_def_map={                                                                                                                      \n",
    "        tf.saved_model.signature_constants.DEFAULT_SERVING_SIGNATURE_DEF_KEY:                                                                \n",
    "            signature                                                                                                                        \n",
    "    })                                                                                                                                       \n",
    "builder.save()"
   ]
  }
 ],
 "metadata": {
  "kernelspec": {
   "display_name": "Python 2",
   "language": "python",
   "name": "python2"
  },
  "language_info": {
   "codemirror_mode": {
    "name": "ipython",
    "version": 2
   },
   "file_extension": ".py",
   "mimetype": "text/x-python",
   "name": "python",
   "nbconvert_exporter": "python",
   "pygments_lexer": "ipython2",
   "version": "2.7.12"
  }
 },
 "nbformat": 4,
 "nbformat_minor": 2
}
