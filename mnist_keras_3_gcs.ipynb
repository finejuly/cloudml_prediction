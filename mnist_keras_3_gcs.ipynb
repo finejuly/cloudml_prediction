{
 "cells": [
  {
   "cell_type": "markdown",
   "metadata": {},
   "source": [
    "1. Upload your saved_model to your google cloud storage.\n",
    "2. Deploy the model and version from the saved_model in your gcs.\n",
    "\n",
    "% Modify gs://your_bucket to your own path"
   ]
  },
  {
   "cell_type": "code",
   "execution_count": null,
   "metadata": {
    "collapsed": true
   },
   "outputs": [],
   "source": [
    "gcloud auth login\n",
    "\n",
    "gsutil cp -r ./mnist_model gs://your_bucket"
   ]
  },
  {
   "cell_type": "raw",
   "metadata": {},
   "source": [
    "gcloud ml-engine models create \"mnist_model\"\n",
    "\n",
    "DEPLOYMENT_SOURCE=\"gs://your_bucket/mnist_model\"\n",
    "\n",
    "gcloud ml-engine versions create \"v1\" --model \"mnist_model\" --origin $DEPLOYMENT_SOURCE\n",
    "\n",
    "gcloud ml-engine versions describe \"v1\" --model \"mnist_model\""
   ]
  }
 ],
 "metadata": {
  "kernelspec": {
   "display_name": "Python 2",
   "language": "python",
   "name": "python2"
  },
  "language_info": {
   "codemirror_mode": {
    "name": "ipython",
    "version": 2
   },
   "file_extension": ".py",
   "mimetype": "text/x-python",
   "name": "python",
   "nbconvert_exporter": "python",
   "pygments_lexer": "ipython2",
   "version": "2.7.12"
  }
 },
 "nbformat": 4,
 "nbformat_minor": 2
}
