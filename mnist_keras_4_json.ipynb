{
 "cells": [
  {
   "cell_type": "markdown",
   "metadata": {},
   "source": [
    "1. Load MNIST dataset, and take one image to predict (x).\n",
    "2. Convert it to json format, and save it to Z.json.\n",
    "3. Predict!"
   ]
  },
  {
   "cell_type": "code",
   "execution_count": null,
   "metadata": {
    "collapsed": true
   },
   "outputs": [],
   "source": [
    "from __future__ import print_function\n",
    "\n",
    "import keras\n",
    "from keras.datasets import mnist\n",
    "\n",
    "import matplotlib.pyplot as plt\n",
    "import numpy as np\n",
    "\n",
    "import json\n",
    "\n",
    "from oauth2client.client import GoogleCredentials\n",
    "\n",
    "import utils"
   ]
  },
  {
   "cell_type": "code",
   "execution_count": null,
   "metadata": {},
   "outputs": [],
   "source": [
    "num_classes = 10\n",
    "\n",
    "# the data, shuffled and split between train and test sets\n",
    "(x_train, y_train), (x_test, y_test) = mnist.load_data()\n",
    "\n",
    "x_train, y_train, x_test, y_test = utils.mnist_preprocessing(x_train, y_train, x_test, y_test)\n"
   ]
  },
  {
   "cell_type": "code",
   "execution_count": null,
   "metadata": {},
   "outputs": [],
   "source": [
    "x = x_test[0,:]  # takes one image\n",
    "y = y_test[0,:]\n",
    "\n",
    "plt.imshow(x_test[0,:].reshape((28,28)))\n",
    "plt.show()\n",
    "print(y)"
   ]
  },
  {
   "cell_type": "code",
   "execution_count": null,
   "metadata": {
    "collapsed": true
   },
   "outputs": [],
   "source": [
    "# This part needs more consideration... it does not work with z0['key']=1, while it is in cloud ml docs. \n",
    "# Also, note that z without json.dumps is used for the prediction based on python, while the saved file of Z.json\n",
    "# with dumps is for it based on gcloud.\n",
    "\n",
    "z0 = {}\n",
    "z0['image']=x.tolist()\n",
    "#z0['key']=1\n",
    "z={}\n",
    "z['instances']=z0\n"
   ]
  },
  {
   "cell_type": "code",
   "execution_count": null,
   "metadata": {
    "collapsed": true
   },
   "outputs": [],
   "source": [
    "## for the prediction using gcloud\n",
    "\n",
    "#Z = json.dumps(z0).encode(\"utf-8\")\n",
    "#with open('Z.json', 'w') as outfile:\n",
    "#    outfile.write(Z)\n",
    "\n",
    "#MODEL_NAME=\"mnist_model\"\n",
    "#INPUT_DATA_FILE=\"Z.json\"\n",
    "#VERSION_NAME=\"v1\"\n",
    "#gcloud ml-engine predict --model $MODEL_NAME  \\\n",
    "#                   --version $VERSION_NAME \\\n",
    "#                   --json-instances $INPUT_DATA_FILE"
   ]
  },
  {
   "cell_type": "code",
   "execution_count": null,
   "metadata": {
    "collapsed": true
   },
   "outputs": [],
   "source": [
    "import params as p\n",
    "\n",
    "credentials = GoogleCredentials.get_application_default()\n",
    "\n",
    "\n",
    "\n",
    "project = p.projectName()\n",
    "model = p.modelName()\n",
    "instances = z\n",
    "version = p.versionName()\n",
    "\n",
    "results=utils.predict_json(project, model, instances, version=version)"
   ]
  },
  {
   "cell_type": "code",
   "execution_count": null,
   "metadata": {},
   "outputs": [],
   "source": [
    "print(results[0]['scores'])"
   ]
  }
 ],
 "metadata": {
  "kernelspec": {
   "display_name": "Python 2",
   "language": "python",
   "name": "python2"
  },
  "language_info": {
   "codemirror_mode": {
    "name": "ipython",
    "version": 2
   },
   "file_extension": ".py",
   "mimetype": "text/x-python",
   "name": "python",
   "nbconvert_exporter": "python",
   "pygments_lexer": "ipython2",
   "version": "2.7.12"
  }
 },
 "nbformat": 4,
 "nbformat_minor": 2
}
